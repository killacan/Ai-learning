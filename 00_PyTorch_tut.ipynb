{
 "cells": [
  {
   "cell_type": "code",
   "execution_count": 1,
   "id": "c91a4f45-e87c-431f-9693-15e266e30c32",
   "metadata": {},
   "outputs": [
    {
     "data": {
      "text/plain": [
       "True"
      ]
     },
     "execution_count": 1,
     "metadata": {},
     "output_type": "execute_result"
    }
   ],
   "source": [
    "import torch\n",
    "torch.cuda.is_available()"
   ]
  },
  {
   "cell_type": "code",
   "execution_count": 2,
   "id": "4df73bb7-4868-4985-bf47-6b8cbf8c1208",
   "metadata": {},
   "outputs": [
    {
     "data": {
      "text/plain": [
       "tensor(7)"
      ]
     },
     "execution_count": 2,
     "metadata": {},
     "output_type": "execute_result"
    }
   ],
   "source": [
    "#scalar \n",
    "scalar = torch.tensor(7)\n",
    "scalar"
   ]
  },
  {
   "cell_type": "markdown",
   "id": "78c9fd5e-04ba-4881-9d95-0826d3f10182",
   "metadata": {},
   "source": [
    "## Introduction to Tensors\n",
    "\n",
    "### Creating tensors\n",
    "\n",
    "PyTorch tensors are created using `torch.Tensor()`"
   ]
  },
  {
   "cell_type": "code",
   "execution_count": 3,
   "id": "505b8f18-1fb5-462e-8c6a-656d9c45cb44",
   "metadata": {},
   "outputs": [
    {
     "data": {
      "text/plain": [
       "0"
      ]
     },
     "execution_count": 3,
     "metadata": {},
     "output_type": "execute_result"
    }
   ],
   "source": [
    "scalar.ndim"
   ]
  },
  {
   "cell_type": "code",
   "execution_count": 4,
   "id": "ebee3d42-a12f-4d98-87ab-a3f334dad6c2",
   "metadata": {},
   "outputs": [
    {
     "data": {
      "text/plain": [
       "7"
      ]
     },
     "execution_count": 4,
     "metadata": {},
     "output_type": "execute_result"
    }
   ],
   "source": [
    "# get tensor back as Python int\n",
    "scalar.item()"
   ]
  },
  {
   "cell_type": "code",
   "execution_count": 5,
   "id": "9ca42066-6f8a-475a-8384-c6fb31d17da6",
   "metadata": {},
   "outputs": [
    {
     "data": {
      "text/plain": [
       "tensor([7, 7])"
      ]
     },
     "execution_count": 5,
     "metadata": {},
     "output_type": "execute_result"
    }
   ],
   "source": [
    "# vector\n",
    "vector = torch.tensor([7,7])\n",
    "vector"
   ]
  },
  {
   "cell_type": "code",
   "execution_count": 7,
   "id": "3b65fa07",
   "metadata": {},
   "outputs": [
    {
     "data": {
      "text/plain": [
       "tensor([[ 7,  8],\n",
       "        [ 9, 10]])"
      ]
     },
     "execution_count": 7,
     "metadata": {},
     "output_type": "execute_result"
    }
   ],
   "source": [
    "# MATRIX\n",
    "MATRIX = torch.tensor([[7,8],[9,10]])\n",
    "MATRIX"
   ]
  },
  {
   "cell_type": "code",
   "execution_count": 8,
   "id": "ac681e3d",
   "metadata": {},
   "outputs": [
    {
     "data": {
      "text/plain": [
       "tensor([ 9, 10])"
      ]
     },
     "execution_count": 8,
     "metadata": {},
     "output_type": "execute_result"
    }
   ],
   "source": [
    "MATRIX[1]"
   ]
  },
  {
   "cell_type": "code",
   "execution_count": 9,
   "id": "4b0614da",
   "metadata": {},
   "outputs": [
    {
     "data": {
      "text/plain": [
       "torch.Size([2, 2])"
      ]
     },
     "execution_count": 9,
     "metadata": {},
     "output_type": "execute_result"
    }
   ],
   "source": [
    "MATRIX.shape"
   ]
  },
  {
   "cell_type": "code",
   "execution_count": 11,
   "id": "6d40daff",
   "metadata": {},
   "outputs": [
    {
     "data": {
      "text/plain": [
       "tensor([[[ 1,  2,  3],\n",
       "         [ 4,  5,  6],\n",
       "         [ 7,  8,  9],\n",
       "         [10, 11, 12]]])"
      ]
     },
     "execution_count": 11,
     "metadata": {},
     "output_type": "execute_result"
    }
   ],
   "source": [
    "# tensor\n",
    "TENSOR = torch.tensor([[[1,2,3],[4,5,6],[7,8,9],[10,11,12]]])\n",
    "TENSOR"
   ]
  },
  {
   "cell_type": "code",
   "execution_count": 12,
   "id": "0df8af81",
   "metadata": {},
   "outputs": [
    {
     "data": {
      "text/plain": [
       "3"
      ]
     },
     "execution_count": 12,
     "metadata": {},
     "output_type": "execute_result"
    }
   ],
   "source": [
    "TENSOR.ndim"
   ]
  },
  {
   "cell_type": "code",
   "execution_count": 13,
   "id": "8053b944",
   "metadata": {},
   "outputs": [
    {
     "data": {
      "text/plain": [
       "torch.Size([1, 4, 3])"
      ]
     },
     "execution_count": 13,
     "metadata": {},
     "output_type": "execute_result"
    }
   ],
   "source": [
    "TENSOR.shape"
   ]
  },
  {
   "cell_type": "code",
   "execution_count": 14,
   "id": "8cf1033d",
   "metadata": {},
   "outputs": [
    {
     "data": {
      "text/plain": [
       "tensor([[ 1,  2,  3],\n",
       "        [ 4,  5,  6],\n",
       "        [ 7,  8,  9],\n",
       "        [10, 11, 12]])"
      ]
     },
     "execution_count": 14,
     "metadata": {},
     "output_type": "execute_result"
    }
   ],
   "source": [
    "TENSOR[0]"
   ]
  },
  {
   "cell_type": "markdown",
   "id": "7213dc61",
   "metadata": {},
   "source": [
    "## Random tensors\n",
    "\n",
    "Why random tensors?\n",
    "\n",
    "Random tensors are important because the way many neural networks learn is that they start with tensors ful of random numbers and then adjust tnose random numbers to better represent the data.\n",
    "\n",
    "Start with random numbers -> look at data -> update random numbers -> look at data -> update random numbers"
   ]
  },
  {
   "cell_type": "code",
   "execution_count": 15,
   "id": "b5777306",
   "metadata": {},
   "outputs": [
    {
     "data": {
      "text/plain": [
       "tensor([[0.2974, 0.8367],\n",
       "        [0.8673, 0.6428],\n",
       "        [0.9319, 0.7808]])"
      ]
     },
     "execution_count": 15,
     "metadata": {},
     "output_type": "execute_result"
    }
   ],
   "source": [
    "random_tensor = torch.rand(3, 2)\n",
    "random_tensor"
   ]
  },
  {
   "cell_type": "code",
   "execution_count": 18,
   "id": "ddb7be6c",
   "metadata": {},
   "outputs": [
    {
     "data": {
      "text/plain": [
       "tensor([[[0.9851, 0.6932, 0.0843, 0.7914, 0.6313, 0.3161, 0.8025, 0.8061,\n",
       "          0.2766, 0.4630],\n",
       "         [0.5901, 0.4862, 0.6061, 0.8138, 0.3566, 0.6614, 0.4989, 0.5741,\n",
       "          0.2724, 0.1814],\n",
       "         [0.1923, 0.4660, 0.1213, 0.3897, 0.8536, 0.8807, 0.1493, 0.5257,\n",
       "          0.3772, 0.6492],\n",
       "         [0.6591, 0.7065, 0.2799, 0.6244, 0.6783, 0.2366, 0.6470, 0.2832,\n",
       "          0.7213, 0.5266],\n",
       "         [0.7359, 0.0574, 0.9863, 0.8883, 0.0651, 0.9636, 0.2695, 0.7391,\n",
       "          0.6694, 0.1228],\n",
       "         [0.2467, 0.6270, 0.8938, 0.4544, 0.2554, 0.8633, 0.2650, 0.1738,\n",
       "          0.2590, 0.6604],\n",
       "         [0.5554, 0.9064, 0.2168, 0.5318, 0.4960, 0.4005, 0.9727, 0.8930,\n",
       "          0.7803, 0.7995],\n",
       "         [0.3514, 0.0581, 0.1908, 0.5450, 0.9723, 0.0625, 0.6364, 0.6035,\n",
       "          0.6739, 0.5398],\n",
       "         [0.9438, 0.5654, 0.2431, 0.3987, 0.3413, 0.1459, 0.6341, 0.9280,\n",
       "          0.7773, 0.1596],\n",
       "         [0.6397, 0.9972, 0.7268, 0.5723, 0.1987, 0.7719, 0.6607, 0.2163,\n",
       "          0.8679, 0.9212]],\n",
       "\n",
       "        [[0.9474, 0.5566, 0.5835, 0.8613, 0.0519, 0.8832, 0.5834, 0.9236,\n",
       "          0.8236, 0.8583],\n",
       "         [0.0300, 0.5433, 0.0996, 0.6678, 0.3751, 0.6463, 0.6242, 0.5951,\n",
       "          0.5187, 0.1154],\n",
       "         [0.6599, 0.3896, 0.9458, 0.0570, 0.6802, 0.3913, 0.4454, 0.6871,\n",
       "          0.6754, 0.4881],\n",
       "         [0.7284, 0.1063, 0.3744, 0.7767, 0.7721, 0.5668, 0.4660, 0.9848,\n",
       "          0.2142, 0.9405],\n",
       "         [0.5328, 0.2264, 0.8284, 0.1010, 0.0514, 0.8263, 0.6539, 0.0347,\n",
       "          0.9035, 0.5873],\n",
       "         [0.7877, 0.0598, 0.4077, 0.9521, 0.4166, 0.4097, 0.2685, 0.8846,\n",
       "          0.8400, 0.4027],\n",
       "         [0.4721, 0.2129, 0.8853, 0.8037, 0.6046, 0.1476, 0.1707, 0.6610,\n",
       "          0.8875, 0.4044],\n",
       "         [0.4907, 0.8399, 0.9330, 0.8526, 0.4816, 0.6488, 0.9562, 0.2115,\n",
       "          0.2627, 0.1191],\n",
       "         [0.3893, 0.7396, 0.1505, 0.6186, 0.9461, 0.4041, 0.5121, 0.9162,\n",
       "          0.1320, 0.1950],\n",
       "         [0.0423, 0.8028, 0.9116, 0.2429, 0.9908, 0.8263, 0.4405, 0.6377,\n",
       "          0.8928, 0.4760]],\n",
       "\n",
       "        [[0.4225, 0.5409, 0.7095, 0.3116, 0.3441, 0.0784, 0.6675, 0.3372,\n",
       "          0.3425, 0.9390],\n",
       "         [0.5808, 0.5996, 0.4185, 0.6040, 0.0760, 0.0300, 0.3187, 0.7976,\n",
       "          0.2353, 0.9282],\n",
       "         [0.4077, 0.6600, 0.0957, 0.5077, 0.2739, 0.2710, 0.4194, 0.1732,\n",
       "          0.7887, 0.8905],\n",
       "         [0.3263, 0.5331, 0.9172, 0.5583, 0.8589, 0.9519, 0.0599, 0.7781,\n",
       "          0.9429, 0.3905],\n",
       "         [0.7528, 0.2967, 0.6484, 0.6616, 0.9408, 0.3704, 0.5187, 0.0978,\n",
       "          0.5683, 0.3986],\n",
       "         [0.4223, 0.9555, 0.8822, 0.5412, 0.7010, 0.4086, 0.2235, 0.1667,\n",
       "          0.4078, 0.4780],\n",
       "         [0.5864, 0.5527, 0.6352, 0.7235, 0.5130, 0.8503, 0.2216, 0.2852,\n",
       "          0.6782, 0.0794],\n",
       "         [0.5907, 0.0876, 0.6807, 0.8312, 0.5969, 0.9256, 0.4300, 0.8991,\n",
       "          0.6191, 0.5289],\n",
       "         [0.0719, 0.5638, 0.1396, 0.0377, 0.6550, 0.5273, 0.1617, 0.1201,\n",
       "          0.3557, 0.5427],\n",
       "         [0.7925, 0.3949, 0.2451, 0.6823, 0.8715, 0.7539, 0.5760, 0.5015,\n",
       "          0.6982, 0.4275]],\n",
       "\n",
       "        [[0.5150, 0.3424, 0.7892, 0.6679, 0.9950, 0.1395, 0.2185, 0.8382,\n",
       "          0.5282, 0.6216],\n",
       "         [0.5087, 0.8941, 0.7605, 0.8622, 0.0937, 0.9220, 0.8804, 0.2815,\n",
       "          0.7739, 0.9130],\n",
       "         [0.0310, 0.3902, 0.4172, 0.4276, 0.0659, 0.1585, 0.6677, 0.5387,\n",
       "          0.3701, 0.2140],\n",
       "         [0.9694, 0.3873, 0.7469, 0.0283, 0.1486, 0.2702, 0.5099, 0.9754,\n",
       "          0.3654, 0.8077],\n",
       "         [0.9292, 0.4811, 0.7240, 0.8725, 0.3434, 0.4989, 0.6634, 0.0058,\n",
       "          0.9488, 0.7280],\n",
       "         [0.4409, 0.1279, 0.6471, 0.6453, 0.0696, 0.9285, 0.6468, 0.0967,\n",
       "          0.7829, 0.6818],\n",
       "         [0.5034, 0.1232, 0.4634, 0.2634, 0.9940, 0.6376, 0.6752, 0.8953,\n",
       "          0.6726, 0.6087],\n",
       "         [0.6437, 0.8150, 0.5020, 0.7709, 0.4806, 0.4519, 0.9307, 0.3957,\n",
       "          0.8278, 0.1905],\n",
       "         [0.3345, 0.3366, 0.4767, 0.8139, 0.6871, 0.6716, 0.9586, 0.3078,\n",
       "          0.4634, 0.1228],\n",
       "         [0.2226, 0.5789, 0.6660, 0.0377, 0.6845, 0.4446, 0.9816, 0.2097,\n",
       "          0.7670, 0.3365]],\n",
       "\n",
       "        [[0.7045, 0.0655, 0.4083, 0.5064, 0.4333, 0.8314, 0.3275, 0.4704,\n",
       "          0.4359, 0.8285],\n",
       "         [0.3243, 0.4765, 0.1505, 0.2106, 0.1880, 0.9085, 0.0440, 0.5066,\n",
       "          0.0314, 0.2235],\n",
       "         [0.4591, 0.7259, 0.9443, 0.1005, 0.3829, 0.6131, 0.2631, 0.1556,\n",
       "          0.3920, 0.6743],\n",
       "         [0.9375, 0.5809, 0.5000, 0.5311, 0.8358, 0.3227, 0.2255, 0.7162,\n",
       "          0.6695, 0.8817],\n",
       "         [0.2023, 0.7514, 0.4363, 0.4831, 0.7629, 0.3575, 0.1060, 0.9379,\n",
       "          0.3517, 0.2066],\n",
       "         [0.1854, 0.8112, 0.5303, 0.6341, 0.5771, 0.6591, 0.9867, 0.1410,\n",
       "          0.9133, 0.2802],\n",
       "         [0.9660, 0.1828, 0.1585, 0.8613, 0.7759, 0.9118, 0.4064, 0.1424,\n",
       "          0.4369, 0.7197],\n",
       "         [0.9956, 0.3910, 0.6458, 0.1568, 0.0669, 0.3219, 0.9874, 0.4146,\n",
       "          0.6249, 0.7635],\n",
       "         [0.7075, 0.5977, 0.7243, 0.0165, 0.3143, 0.2118, 0.6247, 0.3518,\n",
       "          0.7806, 0.4622],\n",
       "         [0.6604, 0.0360, 0.6683, 0.2404, 0.1923, 0.6367, 0.5097, 0.4294,\n",
       "          0.8503, 0.2270]]])"
      ]
     },
     "execution_count": 18,
     "metadata": {},
     "output_type": "execute_result"
    }
   ],
   "source": [
    "random_image_size_tensor = torch.rand(size=(5,10,10))\n",
    "random_image_size_tensor"
   ]
  },
  {
   "cell_type": "code",
   "execution_count": 20,
   "id": "36468464",
   "metadata": {},
   "outputs": [
    {
     "data": {
      "text/plain": [
       "tensor([[0., 0., 0., 0.],\n",
       "        [0., 0., 0., 0.],\n",
       "        [0., 0., 0., 0.]])"
      ]
     },
     "execution_count": 20,
     "metadata": {},
     "output_type": "execute_result"
    }
   ],
   "source": [
    "#create a tensor with all zeroes\n",
    "zeroes = torch.zeros(size=(3,4))\n",
    "zeroes"
   ]
  },
  {
   "cell_type": "code",
   "execution_count": 22,
   "id": "ad32d43d",
   "metadata": {},
   "outputs": [
    {
     "data": {
      "text/plain": [
       "tensor([[1., 1., 1., 1.],\n",
       "        [1., 1., 1., 1.],\n",
       "        [1., 1., 1., 1.]])"
      ]
     },
     "execution_count": 22,
     "metadata": {},
     "output_type": "execute_result"
    }
   ],
   "source": [
    "#create a tensor with all ones\n",
    "ones = torch.ones(size=(3,4))\n",
    "ones"
   ]
  },
  {
   "cell_type": "code",
   "execution_count": 23,
   "id": "a0745c8c",
   "metadata": {},
   "outputs": [
    {
     "data": {
      "text/plain": [
       "torch.float32"
      ]
     },
     "execution_count": 23,
     "metadata": {},
     "output_type": "execute_result"
    }
   ],
   "source": [
    "ones.dtype"
   ]
  },
  {
   "cell_type": "markdown",
   "id": "49027a83",
   "metadata": {},
   "source": [
    "### Creating a range of tensors and tensors-like"
   ]
  },
  {
   "cell_type": "code",
   "execution_count": 30,
   "id": "7934dfaf",
   "metadata": {},
   "outputs": [
    {
     "data": {
      "text/plain": [
       "tensor([0, 1, 2, 3, 4, 5, 6, 7, 8, 9])"
      ]
     },
     "execution_count": 30,
     "metadata": {},
     "output_type": "execute_result"
    }
   ],
   "source": [
    "one_to_ten = torch.arange(start=0, end=10, step=1)\n",
    "one_to_ten"
   ]
  },
  {
   "cell_type": "code",
   "execution_count": 32,
   "id": "b8346993",
   "metadata": {},
   "outputs": [
    {
     "data": {
      "text/plain": [
       "tensor([0, 0, 0, 0, 0, 0, 0, 0, 0, 0])"
      ]
     },
     "execution_count": 32,
     "metadata": {},
     "output_type": "execute_result"
    }
   ],
   "source": [
    "ten_zeros = torch.zeros_like(input=one_to_ten)\n",
    "ten_zeros"
   ]
  },
  {
   "cell_type": "code",
   "execution_count": 33,
   "id": "cdbf1035",
   "metadata": {},
   "outputs": [
    {
     "data": {
      "text/plain": [
       "tensor([[0.7525, 0.2643, 0.2801, 0.2858],\n",
       "        [0.6007, 0.1972, 0.9083, 0.3889],\n",
       "        [0.8143, 0.2455, 0.6949, 0.1904]])"
      ]
     },
     "execution_count": 33,
     "metadata": {},
     "output_type": "execute_result"
    }
   ],
   "source": [
    "some_tensor = torch.rand(3,4)\n",
    "some_tensor"
   ]
  },
  {
   "cell_type": "code",
   "execution_count": 34,
   "id": "5038e123",
   "metadata": {},
   "outputs": [
    {
     "name": "stdout",
     "output_type": "stream",
     "text": [
      "tensor([[0.7525, 0.2643, 0.2801, 0.2858],\n",
      "        [0.6007, 0.1972, 0.9083, 0.3889],\n",
      "        [0.8143, 0.2455, 0.6949, 0.1904]])\n",
      "Datatype of tensor: torch.float32\n",
      "Shape of tensor: torch.Size([3, 4])\n",
      "Device tensor is stored on: cpu\n"
     ]
    }
   ],
   "source": [
    "print(some_tensor)\n",
    "print(f\"Datatype of tensor: {some_tensor.dtype}\")\n",
    "print(f\"Shape of tensor: {some_tensor.shape}\")\n",
    "print(f\"Device tensor is stored on: {some_tensor.device}\")"
   ]
  },
  {
   "cell_type": "markdown",
   "id": "1a591065",
   "metadata": {},
   "source": [
    "### Manipulating Tensors (tensor operations)\n",
    "\n",
    "Tensor operations include:\n",
    "* Addition\n",
    "* Subtraction\n",
    "* Multiplication (element-wise)\n",
    "* Division\n",
    "* Matrix Multiplication"
   ]
  },
  {
   "cell_type": "code",
   "execution_count": 35,
   "id": "3c2d8400",
   "metadata": {},
   "outputs": [
    {
     "data": {
      "text/plain": [
       "tensor([11, 12, 13])"
      ]
     },
     "execution_count": 35,
     "metadata": {},
     "output_type": "execute_result"
    }
   ],
   "source": [
    "# create a tensor\n",
    "tensor = torch.tensor([1,2,3])\n",
    "tensor + 10"
   ]
  },
  {
   "cell_type": "code",
   "execution_count": 36,
   "id": "cf26bb2e",
   "metadata": {},
   "outputs": [
    {
     "data": {
      "text/plain": [
       "tensor([10, 20, 30])"
      ]
     },
     "execution_count": 36,
     "metadata": {},
     "output_type": "execute_result"
    }
   ],
   "source": [
    "# Multiply by 10\n",
    "tensor * 10"
   ]
  },
  {
   "cell_type": "code",
   "execution_count": 37,
   "id": "4e5b037e",
   "metadata": {},
   "outputs": [
    {
     "data": {
      "text/plain": [
       "tensor([-9, -8, -7])"
      ]
     },
     "execution_count": 37,
     "metadata": {},
     "output_type": "execute_result"
    }
   ],
   "source": [
    "# Subtract 10\n",
    "tensor - 10"
   ]
  },
  {
   "cell_type": "code",
   "execution_count": 39,
   "id": "8c05b04c",
   "metadata": {},
   "outputs": [
    {
     "data": {
      "text/plain": [
       "tensor([10, 20, 30])"
      ]
     },
     "execution_count": 39,
     "metadata": {},
     "output_type": "execute_result"
    }
   ],
   "source": [
    "# Try out PyTorch in-built functions\n",
    "torch.mul(tensor, 10)"
   ]
  },
  {
   "cell_type": "markdown",
   "id": "03e8465d",
   "metadata": {},
   "source": [
    "### Matrix Multiplication\n",
    "\n",
    "two main ways of preforming multiplication in neural networks and deep learning:\n",
    "\n",
    "1. Element-wise multiplication\n",
    "2. Matrix multiplication (dot product)\n",
    "\n",
    "There are two main rules that performing matrix multiplication needs to satisfy. \n",
    "1. The **inner dimensions** must match:\n",
    "// @ stands for matrix multiplication\n",
    "* `(3, 2) @ (3, 2)` won't work\n",
    "* `(2, 3) @ (3, 2)` will work\n",
    "* `(3, 2) @ (2, 3)` will work\n"
   ]
  },
  {
   "cell_type": "code",
   "execution_count": 42,
   "id": "ad2c7307",
   "metadata": {},
   "outputs": [
    {
     "name": "stdout",
     "output_type": "stream",
     "text": [
      "tensor([1, 2, 3]) * tensor([1, 2, 3])\n",
      "Equals: tensor([1, 4, 9])\n"
     ]
    }
   ],
   "source": [
    "# Element wise multiplication\n",
    "print(tensor, \"*\", tensor)\n",
    "print(f\"Equals: {tensor * tensor}\")"
   ]
  },
  {
   "cell_type": "code",
   "execution_count": 43,
   "id": "06ff9d7e",
   "metadata": {},
   "outputs": [
    {
     "data": {
      "text/plain": [
       "tensor(14)"
      ]
     },
     "execution_count": 43,
     "metadata": {},
     "output_type": "execute_result"
    }
   ],
   "source": [
    "# Matrix multiplication\n",
    "torch.matmul(tensor, tensor)"
   ]
  },
  {
   "cell_type": "code",
   "execution_count": 44,
   "id": "cacd8dbc",
   "metadata": {},
   "outputs": [
    {
     "data": {
      "text/plain": [
       "tensor([1, 2, 3])"
      ]
     },
     "execution_count": 44,
     "metadata": {},
     "output_type": "execute_result"
    }
   ],
   "source": [
    "tensor"
   ]
  },
  {
   "cell_type": "code",
   "execution_count": 45,
   "id": "2ffffff7",
   "metadata": {},
   "outputs": [
    {
     "data": {
      "text/plain": [
       "14"
      ]
     },
     "execution_count": 45,
     "metadata": {},
     "output_type": "execute_result"
    }
   ],
   "source": [
    "# Matrix multiplication by hand\n",
    "1*1 + 2*2 + 3*3"
   ]
  },
  {
   "cell_type": "code",
   "execution_count": 46,
   "id": "dcd3f825",
   "metadata": {},
   "outputs": [
    {
     "name": "stdout",
     "output_type": "stream",
     "text": [
      "tensor(14)\n",
      "CPU times: user 1.75 ms, sys: 38 µs, total: 1.79 ms\n",
      "Wall time: 40.6 ms\n"
     ]
    }
   ],
   "source": [
    "%%time\n",
    "value = 0\n",
    "for i in range(len(tensor)):\n",
    "    value += tensor[i] * tensor[i]\n",
    "print(value)"
   ]
  },
  {
   "cell_type": "code",
   "execution_count": 47,
   "id": "c785416e",
   "metadata": {},
   "outputs": [
    {
     "name": "stdout",
     "output_type": "stream",
     "text": [
      "CPU times: user 288 µs, sys: 0 ns, total: 288 µs\n",
      "Wall time: 176 µs\n"
     ]
    },
    {
     "data": {
      "text/plain": [
       "tensor(14)"
      ]
     },
     "execution_count": 47,
     "metadata": {},
     "output_type": "execute_result"
    }
   ],
   "source": [
    "%%time\n",
    "torch.matmul(tensor, tensor)"
   ]
  },
  {
   "cell_type": "code",
   "execution_count": null,
   "id": "26a7c190",
   "metadata": {},
   "outputs": [],
   "source": [
    "### One of the most common errors in deep learning: is shape errors\n",
    "tensor_A = torch.tensor([1,2], [3,4], [5,6])\n"
   ]
  }
 ],
 "metadata": {
  "kernelspec": {
   "display_name": "Python 3.9.13 ('base')",
   "language": "python",
   "name": "python3"
  },
  "language_info": {
   "codemirror_mode": {
    "name": "ipython",
    "version": 3
   },
   "file_extension": ".py",
   "mimetype": "text/x-python",
   "name": "python",
   "nbconvert_exporter": "python",
   "pygments_lexer": "ipython3",
   "version": "3.9.13"
  },
  "vscode": {
   "interpreter": {
    "hash": "9e01ec2cc26a0c6789886845faf816ea15502e8dc00af526f71bc8d49d052cd7"
   }
  }
 },
 "nbformat": 4,
 "nbformat_minor": 5
}
